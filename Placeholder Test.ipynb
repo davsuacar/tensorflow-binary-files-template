{
 "cells": [
  {
   "cell_type": "code",
   "execution_count": 1,
   "metadata": {
    "collapsed": true
   },
   "outputs": [],
   "source": [
    "from skdata.mnist.views import OfficialVectorClassification\n",
    "from tqdm import tqdm\n",
    "import numpy as np\n",
    "import tensorflow as tf\n",
    "import pandas as pd"
   ]
  },
  {
   "cell_type": "code",
   "execution_count": 2,
   "metadata": {
    "collapsed": true
   },
   "outputs": [],
   "source": [
    "data = OfficialVectorClassification()"
   ]
  },
  {
   "cell_type": "code",
   "execution_count": 3,
   "metadata": {
    "collapsed": false
   },
   "outputs": [
    {
     "data": {
      "text/plain": [
       "(70000, 10)"
      ]
     },
     "execution_count": 3,
     "metadata": {},
     "output_type": "execute_result"
    }
   ],
   "source": [
    "# Labels\n",
    "df_labels = pd.get_dummies(data.all_labels)\n",
    "df_labels.shape"
   ]
  },
  {
   "cell_type": "code",
   "execution_count": 4,
   "metadata": {
    "collapsed": false
   },
   "outputs": [
    {
     "data": {
      "text/plain": [
       "(70000, 784)"
      ]
     },
     "execution_count": 4,
     "metadata": {},
     "output_type": "execute_result"
    }
   ],
   "source": [
    "# Images\n",
    "features = data.all_vectors\n",
    "features.shape"
   ]
  },
  {
   "cell_type": "code",
   "execution_count": 5,
   "metadata": {
    "collapsed": true
   },
   "outputs": [],
   "source": [
    "LIMIT = 1000"
   ]
  },
  {
   "cell_type": "code",
   "execution_count": 6,
   "metadata": {
    "collapsed": false
   },
   "outputs": [],
   "source": [
    "features = np.array(features)\n",
    "labels = np.array(df_labels)\n",
    "\n",
    "features = features[:LIMIT]\n",
    "labels = labels[:LIMIT]\n",
    "\n",
    "\n",
    "# Reshape the data from rows to columns\n",
    "features = features.reshape(features.shape[0], 784, 1)\n",
    "labels = labels.reshape(labels.shape[0], 10)"
   ]
  },
  {
   "cell_type": "code",
   "execution_count": 7,
   "metadata": {
    "collapsed": true
   },
   "outputs": [],
   "source": [
    "# Network Parameters\n",
    "num_input = 28 # MNIST data input (img shape: 28*28)\n",
    "num_steps = 28 # timesteps\n",
    "num_hidden = 128 # hidden layer num of features\n",
    "num_classes = 10 # MNIST total classes (0-9 digits)\n",
    "\n",
    "# Parameters\n",
    "learning_rate = 0.001"
   ]
  },
  {
   "cell_type": "code",
   "execution_count": 8,
   "metadata": {
    "collapsed": false
   },
   "outputs": [],
   "source": [
    "data = tf.placeholder(tf.float32, [None, 784, 1])\n",
    "target = tf.placeholder(tf.float32, [None, 10])"
   ]
  },
  {
   "cell_type": "code",
   "execution_count": 9,
   "metadata": {
    "collapsed": false
   },
   "outputs": [],
   "source": [
    "num_hidden = 30\n",
    "\n",
    "cell = tf.nn.rnn_cell.LSTMCell(num_hidden, state_is_tuple=True)\n",
    "val, state = tf.nn.dynamic_rnn(cell, data, dtype=tf.float32)\n",
    "\n",
    "# TODO: Understand what happens in the next couple of lines!!!\n",
    "val = tf.transpose(val, [1, 0, 2])\n",
    "last = tf.gather(val, int(val.get_shape()[0]) - 1)\n",
    "\n",
    "weight = tf.Variable(tf.truncated_normal([num_hidden, int(target.get_shape()[1])]))\n",
    "bias = tf.Variable(tf.constant(0.0, shape=[target.get_shape()[1]]))"
   ]
  },
  {
   "cell_type": "code",
   "execution_count": 10,
   "metadata": {
    "collapsed": false
   },
   "outputs": [
    {
     "name": "stderr",
     "output_type": "stream",
     "text": [
      "/usr/local/lib/python2.7/site-packages/tensorflow/python/ops/gradients.py:90: UserWarning: Converting sparse IndexedSlices to a dense Tensor of unknown shape. This may consume a large amount of memory.\n",
      "  \"Converting sparse IndexedSlices to a dense Tensor of unknown shape. \"\n"
     ]
    }
   ],
   "source": [
    "# Functions definition \n",
    "\n",
    "prediction = tf.matmul(last, weight) + bias\n",
    "\n",
    "loss = tf.sqrt(tf.reduce_mean(tf.square(target - prediction)), name='RMSE')\n",
    "optimizer = tf.train.AdamOptimizer(learning_rate=0.01)\n",
    "minimize = optimizer.minimize(loss)\n",
    "\n",
    "correct_prediction = tf.equal(tf.argmax(prediction, 1), tf.argmax(target, 1))\n",
    "accuracy = tf.reduce_mean(tf.cast(correct_prediction, tf.float32))"
   ]
  },
  {
   "cell_type": "code",
   "execution_count": 11,
   "metadata": {
    "collapsed": true
   },
   "outputs": [],
   "source": [
    "init_op = tf.initialize_all_variables()\n",
    "sess = tf.Session()\n",
    "sess.run(init_op)"
   ]
  },
  {
   "cell_type": "code",
   "execution_count": 12,
   "metadata": {
    "collapsed": false
   },
   "outputs": [
    {
     "name": "stdout",
     "output_type": "stream",
     "text": [
      "10\n"
     ]
    }
   ],
   "source": [
    "batch_size = 100\n",
    "no_of_batches = int(len(features) / batch_size)\n",
    "epochs = 400\n",
    "\n",
    "loss_train_array = []\n",
    "train_accuracy_array = []\n",
    "test_accuracy_array = []"
   ]
  },
  {
   "cell_type": "code",
   "execution_count": 25,
   "metadata": {
    "collapsed": false
   },
   "outputs": [
    {
     "name": "stdout",
     "output_type": "stream",
     "text": [
      "Epoch 0000, loss train 0.29055846, train accuracy 0.30000001\n",
      "Epoch 0010, loss train 0.28459078, train accuracy 0.40000001\n",
      "Epoch 0020, loss train 0.28086957, train accuracy 0.40000001\n",
      "Epoch 0030, loss train 0.27600390, train accuracy 0.60000002\n",
      "Epoch 0040, loss train 0.31244469, train accuracy 0.40000001\n",
      "Epoch 0050, loss train 0.27201024, train accuracy 0.50000000\n",
      "Epoch 0060, loss train 0.28449625, train accuracy 0.10000000\n",
      "Epoch 0070, loss train 0.28073186, train accuracy 0.10000000\n",
      "Epoch 0080, loss train 0.28070363, train accuracy 0.10000000\n",
      "Epoch 0090, loss train 0.27909574, train accuracy 0.00000000\n",
      "Epoch 0100, loss train 0.28013858, train accuracy 0.20000000\n",
      "Epoch 0110, loss train 0.27588651, train accuracy 0.10000000\n",
      "Epoch 0120, loss train 0.27426177, train accuracy 0.50000000\n",
      "Epoch 0130, loss train 0.28004283, train accuracy 0.20000000\n",
      "Epoch 0140, loss train 0.26907411, train accuracy 0.20000000\n",
      "Epoch 0150, loss train 0.27606848, train accuracy 0.60000002\n",
      "Epoch 0160, loss train 0.58729237, train accuracy 0.00000000\n",
      "Epoch 0170, loss train 0.30121279, train accuracy 0.00000000\n",
      "Epoch 0180, loss train 0.29967675, train accuracy 0.00000000\n",
      "Epoch 0190, loss train 0.29870728, train accuracy 0.30000001\n",
      "Epoch 0200, loss train 0.29601669, train accuracy 0.30000001\n",
      "Epoch 0210, loss train 0.30166769, train accuracy 0.20000000\n",
      "Epoch 0220, loss train 0.30078694, train accuracy 0.10000000\n",
      "Epoch 0230, loss train 0.29881474, train accuracy 0.00000000\n",
      "Epoch 0240, loss train 0.28873911, train accuracy 0.00000000\n",
      "Epoch 0250, loss train 0.28676778, train accuracy 0.10000000\n",
      "Epoch 0260, loss train 0.28616399, train accuracy 0.10000000\n",
      "Epoch 0270, loss train 0.28578880, train accuracy 0.10000000\n",
      "Epoch 0280, loss train 0.28550917, train accuracy 0.10000000\n",
      "Epoch 0290, loss train 0.28521371, train accuracy 0.10000000\n",
      "Epoch 0300, loss train 0.28491390, train accuracy 0.10000000\n",
      "Epoch 0310, loss train 0.28461337, train accuracy 0.20000000\n",
      "Epoch 0320, loss train 0.28436047, train accuracy 0.20000000\n",
      "Epoch 0330, loss train 0.28438953, train accuracy 0.20000000\n",
      "Epoch 0340, loss train 0.28472602, train accuracy 0.20000000\n",
      "Epoch 0350, loss train 0.28361571, train accuracy 0.10000000\n",
      "Epoch 0360, loss train 0.28306741, train accuracy 0.10000000\n",
      "Epoch 0370, loss train 0.28270999, train accuracy 0.10000000\n",
      "Epoch 0380, loss train 0.28229520, train accuracy 0.10000000\n",
      "Epoch 0390, loss train 0.28190935, train accuracy 0.10000000\n"
     ]
    }
   ],
   "source": [
    "with sess.as_default():\n",
    "    \n",
    "    for i in range(epochs):\n",
    "        \n",
    "        ptr = 0\n",
    "        for j in range(no_of_batches):\n",
    "            inp, out = features[ptr:ptr + batch_size], labels[ptr:ptr + batch_size]\n",
    "            ptr += batch_size\n",
    "            _, loss_train = sess.run([minimize, loss], {data: inp, target: out})\n",
    "        \n",
    "        if i % 10 == 0:\n",
    "            # We calculate the accuracies to plot their values later\n",
    "            loss_train_array.append(loss_train)\n",
    "            train_accuracy = sess.run(\n",
    "                accuracy, feed_dict={data: features[:10], target: labels[:10]})\n",
    "            train_accuracy_array.append(train_accuracy)\n",
    "\n",
    "            print (\n",
    "                'Epoch %04d, '\n",
    "                'loss train %.8f, train accuracy %.8f'\n",
    "                %\n",
    "                (i,\n",
    "                 loss_train,\n",
    "                 train_accuracy))"
   ]
  },
  {
   "cell_type": "code",
   "execution_count": 34,
   "metadata": {
    "collapsed": false
   },
   "outputs": [
    {
     "data": {
      "text/plain": [
       "array([[ 0.,  0.,  0.,  0.,  0.,  1.,  0.,  0.,  0.,  0.]])"
      ]
     },
     "execution_count": 34,
     "metadata": {},
     "output_type": "execute_result"
    }
   ],
   "source": [
    "image_test = features[:1]\n",
    "label_test = labels[:1]\n",
    "label_test"
   ]
  },
  {
   "cell_type": "code",
   "execution_count": 35,
   "metadata": {
    "collapsed": false
   },
   "outputs": [
    {
     "name": "stdout",
     "output_type": "stream",
     "text": [
      "[[ 0.125304    0.09261802  0.15892717  0.10722232  0.05070642  0.16740942\n",
      "   0.1376359  -0.01782649  0.13625304 -0.01044179]]\n"
     ]
    }
   ],
   "source": [
    "# Train predicted\n",
    "pred = sess.run(prediction ,{data: image_test})\n",
    "print pred"
   ]
  },
  {
   "cell_type": "code",
   "execution_count": null,
   "metadata": {
    "collapsed": true
   },
   "outputs": [],
   "source": []
  }
 ],
 "metadata": {
  "kernelspec": {
   "display_name": "Python 2",
   "language": "python",
   "name": "python2"
  },
  "language_info": {
   "codemirror_mode": {
    "name": "ipython",
    "version": 2
   },
   "file_extension": ".py",
   "mimetype": "text/x-python",
   "name": "python",
   "nbconvert_exporter": "python",
   "pygments_lexer": "ipython2",
   "version": "2.7.12"
  }
 },
 "nbformat": 4,
 "nbformat_minor": 0
}
